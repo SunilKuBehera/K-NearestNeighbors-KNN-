{
 "cells": [
  {
   "cell_type": "code",
   "execution_count": 2,
   "id": "62c72f7a-4615-4067-9ce9-c9b2742f15d7",
   "metadata": {},
   "outputs": [],
   "source": [
    "import numpy as np\n",
    "import pandas as pd\n",
    "import matplotlib.pyplot as plt\n",
    "import seaborn as sns\n",
    "%matplotlib inline\n",
    "import warnings\n",
    "warnings.filterwarnings('ignore')\n",
    "from sklearn.datasets import load_iris"
   ]
  },
  {
   "cell_type": "code",
   "execution_count": 4,
   "id": "9c2562c3-23b1-4ff2-90ca-20129c1f24a7",
   "metadata": {},
   "outputs": [],
   "source": [
    "# Load the data and split them\n",
    "from sklearn.model_selection import train_test_split\n",
    "X,y = load_iris(return_X_y = True)\n",
    "X_train,X_test, y_train,y_test = train_test_split(X,y,test_size = 0.30,random_state=0)"
   ]
  },
  {
   "cell_type": "code",
   "execution_count": 7,
   "id": "728b7c3c-7f35-46c8-bb00-c2ff6185d02d",
   "metadata": {},
   "outputs": [],
   "source": [
    "# train and predict the model\n",
    "from sklearn.neighbors import KNeighborsClassifier\n",
    "knc = KNeighborsClassifier(n_neighbors=5,algorithm='auto')\n",
    "knc.fit(X_train,y_train)\n",
    "y_pred = knc.predict(X_test)"
   ]
  },
  {
   "cell_type": "code",
   "execution_count": 11,
   "id": "531ccc5e-ac5f-4f51-a9de-d65175ca234d",
   "metadata": {},
   "outputs": [
    {
     "name": "stdout",
     "output_type": "stream",
     "text": [
      "Accuracy score: 0.9777777777777777 \n",
      "\n",
      "Confussion Matrix : [[16  0  0]\n",
      " [ 0 17  1]\n",
      " [ 0  0 11]] \n",
      "\n",
      "Classification Report :               precision    recall  f1-score   support\n",
      "\n",
      "           0       1.00      1.00      1.00        16\n",
      "           1       1.00      0.94      0.97        18\n",
      "           2       0.92      1.00      0.96        11\n",
      "\n",
      "    accuracy                           0.98        45\n",
      "   macro avg       0.97      0.98      0.98        45\n",
      "weighted avg       0.98      0.98      0.98        45\n",
      "\n"
     ]
    }
   ],
   "source": [
    "# Check the accuracy and classification report\n",
    "from sklearn.metrics import confusion_matrix,classification_report,accuracy_score\n",
    "print(f\"Accuracy score: {accuracy_score(y_test,y_pred)}\",'\\n')\n",
    "print(f\"Confussion Matrix : {confusion_matrix(y_test,y_pred)}\",'\\n')\n",
    "print(f\"Classification Report : {classification_report(y_test,y_pred)}\")"
   ]
  },
  {
   "cell_type": "code",
   "execution_count": null,
   "id": "38d9ec15-6310-4a4e-97c7-a17f6b0a28c0",
   "metadata": {},
   "outputs": [],
   "source": []
  }
 ],
 "metadata": {
  "kernelspec": {
   "display_name": "Python 3 (ipykernel)",
   "language": "python",
   "name": "python3"
  },
  "language_info": {
   "codemirror_mode": {
    "name": "ipython",
    "version": 3
   },
   "file_extension": ".py",
   "mimetype": "text/x-python",
   "name": "python",
   "nbconvert_exporter": "python",
   "pygments_lexer": "ipython3",
   "version": "3.12.7"
  }
 },
 "nbformat": 4,
 "nbformat_minor": 5
}
